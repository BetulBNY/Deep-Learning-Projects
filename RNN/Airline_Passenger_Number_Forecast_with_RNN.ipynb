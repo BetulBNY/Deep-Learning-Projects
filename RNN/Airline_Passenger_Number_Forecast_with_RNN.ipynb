{
 "cells": [
  {
   "cell_type": "code",
   "execution_count": 1,
   "id": "c9cc311d",
   "metadata": {
    "_cell_guid": "b1076dfc-b9ad-4769-8c92-a6c4dae69d19",
    "_uuid": "8f2839f25d086af736a60e9eeb907d3b93b6e0e5",
    "execution": {
     "iopub.execute_input": "2023-12-03T14:54:41.407528Z",
     "iopub.status.busy": "2023-12-03T14:54:41.407178Z",
     "iopub.status.idle": "2023-12-03T14:54:42.159794Z",
     "shell.execute_reply": "2023-12-03T14:54:42.158789Z"
    },
    "papermill": {
     "duration": 0.77397,
     "end_time": "2023-12-03T14:54:42.161910",
     "exception": false,
     "start_time": "2023-12-03T14:54:41.387940",
     "status": "completed"
    },
    "tags": []
   },
   "outputs": [
    {
     "name": "stdout",
     "output_type": "stream",
     "text": [
      "/kaggle/input/international-airline-passengers/international-airline-passengers.csv\n"
     ]
    }
   ],
   "source": [
    "# This Python 3 environment comes with many helpful analytics libraries installed\n",
    "# It is defined by the kaggle/python Docker image: https://github.com/kaggle/docker-python\n",
    "# For example, here's several helpful packages to load\n",
    "\n",
    "import numpy as np # linear algebra\n",
    "import pandas as pd # data processing, CSV file I/O (e.g. pd.read_csv)\n",
    "\n",
    "# Input data files are available in the read-only \"../input/\" directory\n",
    "# For example, running this (by clicking run or pressing Shift+Enter) will list all files under the input directory\n",
    "\n",
    "import os\n",
    "for dirname, _, filenames in os.walk('/kaggle/input'):\n",
    "    for filename in filenames:\n",
    "        print(os.path.join(dirname, filename))\n",
    "\n",
    "# You can write up to 20GB to the current directory (/kaggle/working/) that gets preserved as output when you create a version using \"Save & Run All\" \n",
    "# You can also write temporary files to /kaggle/temp/, but they won't be saved outside of the current session"
   ]
  },
  {
   "cell_type": "markdown",
   "id": "e5eeed8c",
   "metadata": {
    "papermill": {
     "duration": 0.017166,
     "end_time": "2023-12-03T14:54:42.196790",
     "exception": false,
     "start_time": "2023-12-03T14:54:42.179624",
     "status": "completed"
    },
    "tags": []
   },
   "source": [
    "# RNN ile Havayolu Yolcu Sayısı Tahmini"
   ]
  },
  {
   "cell_type": "markdown",
   "id": "fb917c72",
   "metadata": {
    "papermill": {
     "duration": 0.017257,
     "end_time": "2023-12-03T14:54:42.231430",
     "exception": false,
     "start_time": "2023-12-03T14:54:42.214173",
     "status": "completed"
    },
    "tags": []
   },
   "source": [
    "Havayolu yolcu sayısı tahmini problemini çözmek için izlenecek adımlar.\n",
    "\n",
    "\n",
    "1.  İş Problemi (Business Problem)\n",
    "1.  Veriyi Anlamak (Data Understanding)\n",
    "1.  Veriyi Hazırlamak (Data Preparation)\n",
    "1.  Modelleme (Modeling)\n",
    "1.  Değerlendirme (Evaluation)\n",
    "1.  İş Problemi (Business Problem)"
   ]
  },
  {
   "cell_type": "markdown",
   "id": "7e5d91b3",
   "metadata": {
    "papermill": {
     "duration": 0.017081,
     "end_time": "2023-12-03T14:54:42.267250",
     "exception": false,
     "start_time": "2023-12-03T14:54:42.250169",
     "status": "completed"
    },
    "tags": []
   },
   "source": [
    "### 1) İş Problemi (Business Problem)\n",
    "Veri setimiz 1949 yılından 1960 yılına olacak şekilde aylık olarak yolcu sayısını ifade etmektedir.\n",
    "* Month: Aylık olarak yer alan tarih değişkenidir.\n",
    "* Passengers: İlgili işlem tarihindeki yolcu sayısını, yani aylık yolcu sayısını temsil etmektedir.\n",
    "* https://www.kaggle.com/andreazzini/international-airline-passengers"
   ]
  },
  {
   "cell_type": "markdown",
   "id": "e480ba5e",
   "metadata": {
    "papermill": {
     "duration": 0.017052,
     "end_time": "2023-12-03T14:54:42.302051",
     "exception": false,
     "start_time": "2023-12-03T14:54:42.284999",
     "status": "completed"
    },
    "tags": []
   },
   "source": [
    "### 2) Veriyi Anlamak (Data Understanding)\n"
   ]
  },
  {
   "cell_type": "markdown",
   "id": "50ad3918",
   "metadata": {
    "papermill": {
     "duration": 0.016954,
     "end_time": "2023-12-03T14:54:42.336206",
     "exception": false,
     "start_time": "2023-12-03T14:54:42.319252",
     "status": "completed"
    },
    "tags": []
   },
   "source": [
    "##### 2.1) Gerekli Kütüphanelerin Import İşlemleri"
   ]
  },
  {
   "cell_type": "code",
   "execution_count": 2,
   "id": "05dc8076",
   "metadata": {
    "execution": {
     "iopub.execute_input": "2023-12-03T14:54:42.373893Z",
     "iopub.status.busy": "2023-12-03T14:54:42.373470Z",
     "iopub.status.idle": "2023-12-03T14:54:54.441379Z",
     "shell.execute_reply": "2023-12-03T14:54:54.440510Z"
    },
    "papermill": {
     "duration": 12.089819,
     "end_time": "2023-12-03T14:54:54.443630",
     "exception": false,
     "start_time": "2023-12-03T14:54:42.353811",
     "status": "completed"
    },
    "tags": []
   },
   "outputs": [
    {
     "name": "stderr",
     "output_type": "stream",
     "text": [
      "/opt/conda/lib/python3.10/site-packages/scipy/__init__.py:146: UserWarning: A NumPy version >=1.16.5 and <1.23.0 is required for this version of SciPy (detected version 1.24.3\n",
      "  warnings.warn(f\"A NumPy version >={np_minversion} and <{np_maxversion}\"\n"
     ]
    }
   ],
   "source": [
    "# Veriyi okuma ve işleme adımında kullanılacak olan kütüphaneler\n",
    "import numpy as np\n",
    "import pandas as pd\n",
    "import datetime as dt\n",
    "import tensorflow as tf\n",
    "import matplotlib.pyplot as plt\n",
    "\n",
    "# Model değerlendirme ve veriyi scale edebilmemiz için kullanılacak olan kütüphaneler \n",
    "from sklearn.preprocessing import MinMaxScaler \n",
    "from sklearn.metrics import mean_squared_error\n",
    "\n",
    "# Model için kullanılacak olan kütüphaneler\n",
    "from tensorflow.keras.models import Sequential\n",
    "from tensorflow.keras.layers import Dense, SimpleRNN, Dropout\n",
    "from tensorflow.keras.callbacks import ModelCheckpoint, EarlyStopping\n",
    "\n",
    "# Warning'leri kapatmak için kullanılmaktadır. \n",
    "import warnings \n",
    "warnings.filterwarnings('ignore')\n",
    "\n",
    "# Tensorflow Warning Engelleme \n",
    "import os \n",
    "os.environ['TF_CPP_MIN_LOG_LEVEL'] = '3'\n",
    "tf.compat.v1.logging.set_verbosity(tf.compat.v1.logging.ERROR)\n"
   ]
  },
  {
   "cell_type": "markdown",
   "id": "82c06ac9",
   "metadata": {
    "papermill": {
     "duration": 0.017223,
     "end_time": "2023-12-03T14:54:54.478578",
     "exception": false,
     "start_time": "2023-12-03T14:54:54.461355",
     "status": "completed"
    },
    "tags": []
   },
   "source": [
    "##### 2.2) Veri Setini Yüklenmesi ve Verinin Genel Resminin İncelenmesi"
   ]
  },
  {
   "cell_type": "code",
   "execution_count": 3,
   "id": "db892938",
   "metadata": {
    "execution": {
     "iopub.execute_input": "2023-12-03T14:54:54.516864Z",
     "iopub.status.busy": "2023-12-03T14:54:54.515741Z",
     "iopub.status.idle": "2023-12-03T14:54:54.546929Z",
     "shell.execute_reply": "2023-12-03T14:54:54.546067Z"
    },
    "papermill": {
     "duration": 0.052448,
     "end_time": "2023-12-03T14:54:54.548865",
     "exception": false,
     "start_time": "2023-12-03T14:54:54.496417",
     "status": "completed"
    },
    "tags": []
   },
   "outputs": [
    {
     "data": {
      "text/html": [
       "<div>\n",
       "<style scoped>\n",
       "    .dataframe tbody tr th:only-of-type {\n",
       "        vertical-align: middle;\n",
       "    }\n",
       "\n",
       "    .dataframe tbody tr th {\n",
       "        vertical-align: top;\n",
       "    }\n",
       "\n",
       "    .dataframe thead th {\n",
       "        text-align: right;\n",
       "    }\n",
       "</style>\n",
       "<table border=\"1\" class=\"dataframe\">\n",
       "  <thead>\n",
       "    <tr style=\"text-align: right;\">\n",
       "      <th></th>\n",
       "      <th>Month</th>\n",
       "      <th>International airline passengers: monthly totals in thousands. Jan 49 ? Dec 60</th>\n",
       "    </tr>\n",
       "  </thead>\n",
       "  <tbody>\n",
       "    <tr>\n",
       "      <th>0</th>\n",
       "      <td>1949-01</td>\n",
       "      <td>112.0</td>\n",
       "    </tr>\n",
       "    <tr>\n",
       "      <th>1</th>\n",
       "      <td>1949-02</td>\n",
       "      <td>118.0</td>\n",
       "    </tr>\n",
       "    <tr>\n",
       "      <th>2</th>\n",
       "      <td>1949-03</td>\n",
       "      <td>132.0</td>\n",
       "    </tr>\n",
       "    <tr>\n",
       "      <th>3</th>\n",
       "      <td>1949-04</td>\n",
       "      <td>129.0</td>\n",
       "    </tr>\n",
       "    <tr>\n",
       "      <th>4</th>\n",
       "      <td>1949-05</td>\n",
       "      <td>121.0</td>\n",
       "    </tr>\n",
       "  </tbody>\n",
       "</table>\n",
       "</div>"
      ],
      "text/plain": [
       "     Month  \\\n",
       "0  1949-01   \n",
       "1  1949-02   \n",
       "2  1949-03   \n",
       "3  1949-04   \n",
       "4  1949-05   \n",
       "\n",
       "   International airline passengers: monthly totals in thousands. Jan 49 ? Dec 60  \n",
       "0                                              112.0                               \n",
       "1                                              118.0                               \n",
       "2                                              132.0                               \n",
       "3                                              129.0                               \n",
       "4                                              121.0                               "
      ]
     },
     "execution_count": 3,
     "metadata": {},
     "output_type": "execute_result"
    }
   ],
   "source": [
    "# Elimizdeki veri seti bir zaman serisi verisi.\n",
    "df = pd.read_csv(\"/kaggle/input/international-airline-passengers/international-airline-passengers.csv\")\n",
    "df.head()"
   ]
  },
  {
   "cell_type": "code",
   "execution_count": 4,
   "id": "3f17e31b",
   "metadata": {
    "execution": {
     "iopub.execute_input": "2023-12-03T14:54:54.586629Z",
     "iopub.status.busy": "2023-12-03T14:54:54.586336Z",
     "iopub.status.idle": "2023-12-03T14:54:54.593075Z",
     "shell.execute_reply": "2023-12-03T14:54:54.592167Z"
    },
    "papermill": {
     "duration": 0.027511,
     "end_time": "2023-12-03T14:54:54.594916",
     "exception": false,
     "start_time": "2023-12-03T14:54:54.567405",
     "status": "completed"
    },
    "tags": []
   },
   "outputs": [
    {
     "data": {
      "text/plain": [
       "Index(['Month', 'International airline passengers: monthly totals in thousands. Jan 49 ? Dec 60'], dtype='object')"
      ]
     },
     "execution_count": 4,
     "metadata": {},
     "output_type": "execute_result"
    }
   ],
   "source": [
    "# Değişken isimlerine erişme\n",
    "df.columns"
   ]
  },
  {
   "cell_type": "code",
   "execution_count": 5,
   "id": "e84a3d3b",
   "metadata": {
    "execution": {
     "iopub.execute_input": "2023-12-03T14:54:54.676075Z",
     "iopub.status.busy": "2023-12-03T14:54:54.675300Z",
     "iopub.status.idle": "2023-12-03T14:54:54.685754Z",
     "shell.execute_reply": "2023-12-03T14:54:54.684811Z"
    },
    "papermill": {
     "duration": 0.075034,
     "end_time": "2023-12-03T14:54:54.687856",
     "exception": false,
     "start_time": "2023-12-03T14:54:54.612822",
     "status": "completed"
    },
    "tags": []
   },
   "outputs": [
    {
     "data": {
      "text/html": [
       "<div>\n",
       "<style scoped>\n",
       "    .dataframe tbody tr th:only-of-type {\n",
       "        vertical-align: middle;\n",
       "    }\n",
       "\n",
       "    .dataframe tbody tr th {\n",
       "        vertical-align: top;\n",
       "    }\n",
       "\n",
       "    .dataframe thead th {\n",
       "        text-align: right;\n",
       "    }\n",
       "</style>\n",
       "<table border=\"1\" class=\"dataframe\">\n",
       "  <thead>\n",
       "    <tr style=\"text-align: right;\">\n",
       "      <th></th>\n",
       "      <th>Month</th>\n",
       "      <th>Passengers</th>\n",
       "    </tr>\n",
       "  </thead>\n",
       "  <tbody>\n",
       "    <tr>\n",
       "      <th>0</th>\n",
       "      <td>1949-01</td>\n",
       "      <td>112.0</td>\n",
       "    </tr>\n",
       "    <tr>\n",
       "      <th>1</th>\n",
       "      <td>1949-02</td>\n",
       "      <td>118.0</td>\n",
       "    </tr>\n",
       "    <tr>\n",
       "      <th>2</th>\n",
       "      <td>1949-03</td>\n",
       "      <td>132.0</td>\n",
       "    </tr>\n",
       "    <tr>\n",
       "      <th>3</th>\n",
       "      <td>1949-04</td>\n",
       "      <td>129.0</td>\n",
       "    </tr>\n",
       "    <tr>\n",
       "      <th>4</th>\n",
       "      <td>1949-05</td>\n",
       "      <td>121.0</td>\n",
       "    </tr>\n",
       "  </tbody>\n",
       "</table>\n",
       "</div>"
      ],
      "text/plain": [
       "     Month  Passengers\n",
       "0  1949-01       112.0\n",
       "1  1949-02       118.0\n",
       "2  1949-03       132.0\n",
       "3  1949-04       129.0\n",
       "4  1949-05       121.0"
      ]
     },
     "execution_count": 5,
     "metadata": {},
     "output_type": "execute_result"
    }
   ],
   "source": [
    "df.columns = [\"Month\", \"Passengers\"]\n",
    "df.head()"
   ]
  },
  {
   "cell_type": "code",
   "execution_count": 6,
   "id": "04d3feb4",
   "metadata": {
    "execution": {
     "iopub.execute_input": "2023-12-03T14:54:54.728127Z",
     "iopub.status.busy": "2023-12-03T14:54:54.727779Z",
     "iopub.status.idle": "2023-12-03T14:54:54.737370Z",
     "shell.execute_reply": "2023-12-03T14:54:54.736534Z"
    },
    "papermill": {
     "duration": 0.031902,
     "end_time": "2023-12-03T14:54:54.739368",
     "exception": false,
     "start_time": "2023-12-03T14:54:54.707466",
     "status": "completed"
    },
    "tags": []
   },
   "outputs": [
    {
     "data": {
      "text/html": [
       "<div>\n",
       "<style scoped>\n",
       "    .dataframe tbody tr th:only-of-type {\n",
       "        vertical-align: middle;\n",
       "    }\n",
       "\n",
       "    .dataframe tbody tr th {\n",
       "        vertical-align: top;\n",
       "    }\n",
       "\n",
       "    .dataframe thead th {\n",
       "        text-align: right;\n",
       "    }\n",
       "</style>\n",
       "<table border=\"1\" class=\"dataframe\">\n",
       "  <thead>\n",
       "    <tr style=\"text-align: right;\">\n",
       "      <th></th>\n",
       "      <th>Month</th>\n",
       "      <th>Passengers</th>\n",
       "    </tr>\n",
       "  </thead>\n",
       "  <tbody>\n",
       "    <tr>\n",
       "      <th>140</th>\n",
       "      <td>1960-09</td>\n",
       "      <td>508.0</td>\n",
       "    </tr>\n",
       "    <tr>\n",
       "      <th>141</th>\n",
       "      <td>1960-10</td>\n",
       "      <td>461.0</td>\n",
       "    </tr>\n",
       "    <tr>\n",
       "      <th>142</th>\n",
       "      <td>1960-11</td>\n",
       "      <td>390.0</td>\n",
       "    </tr>\n",
       "    <tr>\n",
       "      <th>143</th>\n",
       "      <td>1960-12</td>\n",
       "      <td>432.0</td>\n",
       "    </tr>\n",
       "    <tr>\n",
       "      <th>144</th>\n",
       "      <td>International airline passengers: monthly tota...</td>\n",
       "      <td>NaN</td>\n",
       "    </tr>\n",
       "  </tbody>\n",
       "</table>\n",
       "</div>"
      ],
      "text/plain": [
       "                                                 Month  Passengers\n",
       "140                                            1960-09       508.0\n",
       "141                                            1960-10       461.0\n",
       "142                                            1960-11       390.0\n",
       "143                                            1960-12       432.0\n",
       "144  International airline passengers: monthly tota...         NaN"
      ]
     },
     "execution_count": 6,
     "metadata": {},
     "output_type": "execute_result"
    }
   ],
   "source": [
    "df.tail()"
   ]
  },
  {
   "cell_type": "code",
   "execution_count": 7,
   "id": "accb54b8",
   "metadata": {
    "execution": {
     "iopub.execute_input": "2023-12-03T14:54:54.777895Z",
     "iopub.status.busy": "2023-12-03T14:54:54.777117Z",
     "iopub.status.idle": "2023-12-03T14:54:54.783320Z",
     "shell.execute_reply": "2023-12-03T14:54:54.782330Z"
    },
    "papermill": {
     "duration": 0.027465,
     "end_time": "2023-12-03T14:54:54.785273",
     "exception": false,
     "start_time": "2023-12-03T14:54:54.757808",
     "status": "completed"
    },
    "tags": []
   },
   "outputs": [
    {
     "data": {
      "text/plain": [
       "(145, 2)"
      ]
     },
     "execution_count": 7,
     "metadata": {},
     "output_type": "execute_result"
    }
   ],
   "source": [
    "df.shape"
   ]
  },
  {
   "cell_type": "code",
   "execution_count": 8,
   "id": "17885ce1",
   "metadata": {
    "execution": {
     "iopub.execute_input": "2023-12-03T14:54:54.823308Z",
     "iopub.status.busy": "2023-12-03T14:54:54.822994Z",
     "iopub.status.idle": "2023-12-03T14:54:54.829450Z",
     "shell.execute_reply": "2023-12-03T14:54:54.828752Z"
    },
    "papermill": {
     "duration": 0.027601,
     "end_time": "2023-12-03T14:54:54.831389",
     "exception": false,
     "start_time": "2023-12-03T14:54:54.803788",
     "status": "completed"
    },
    "tags": []
   },
   "outputs": [
    {
     "data": {
      "text/plain": [
       "Month          object\n",
       "Passengers    float64\n",
       "dtype: object"
      ]
     },
     "execution_count": 8,
     "metadata": {},
     "output_type": "execute_result"
    }
   ],
   "source": [
    "df.dtypes"
   ]
  },
  {
   "cell_type": "code",
   "execution_count": 9,
   "id": "2fdf0b8c",
   "metadata": {
    "execution": {
     "iopub.execute_input": "2023-12-03T14:54:54.870195Z",
     "iopub.status.busy": "2023-12-03T14:54:54.869547Z",
     "iopub.status.idle": "2023-12-03T14:54:54.877695Z",
     "shell.execute_reply": "2023-12-03T14:54:54.876849Z"
    },
    "papermill": {
     "duration": 0.029587,
     "end_time": "2023-12-03T14:54:54.879652",
     "exception": false,
     "start_time": "2023-12-03T14:54:54.850065",
     "status": "completed"
    },
    "tags": []
   },
   "outputs": [
    {
     "data": {
      "text/plain": [
       "Month         0\n",
       "Passengers    1\n",
       "dtype: int64"
      ]
     },
     "execution_count": 9,
     "metadata": {},
     "output_type": "execute_result"
    }
   ],
   "source": [
    "df.isnull().sum()"
   ]
  },
  {
   "cell_type": "code",
   "execution_count": 10,
   "id": "b751c56b",
   "metadata": {
    "execution": {
     "iopub.execute_input": "2023-12-03T14:54:54.938152Z",
     "iopub.status.busy": "2023-12-03T14:54:54.937282Z",
     "iopub.status.idle": "2023-12-03T14:54:54.961498Z",
     "shell.execute_reply": "2023-12-03T14:54:54.960430Z"
    },
    "papermill": {
     "duration": 0.058651,
     "end_time": "2023-12-03T14:54:54.964137",
     "exception": false,
     "start_time": "2023-12-03T14:54:54.905486",
     "status": "completed"
    },
    "tags": []
   },
   "outputs": [
    {
     "data": {
      "text/html": [
       "<div>\n",
       "<style scoped>\n",
       "    .dataframe tbody tr th:only-of-type {\n",
       "        vertical-align: middle;\n",
       "    }\n",
       "\n",
       "    .dataframe tbody tr th {\n",
       "        vertical-align: top;\n",
       "    }\n",
       "\n",
       "    .dataframe thead th {\n",
       "        text-align: right;\n",
       "    }\n",
       "</style>\n",
       "<table border=\"1\" class=\"dataframe\">\n",
       "  <thead>\n",
       "    <tr style=\"text-align: right;\">\n",
       "      <th></th>\n",
       "      <th>count</th>\n",
       "      <th>mean</th>\n",
       "      <th>std</th>\n",
       "      <th>min</th>\n",
       "      <th>25%</th>\n",
       "      <th>50%</th>\n",
       "      <th>75%</th>\n",
       "      <th>max</th>\n",
       "    </tr>\n",
       "  </thead>\n",
       "  <tbody>\n",
       "    <tr>\n",
       "      <th>Passengers</th>\n",
       "      <td>144.0</td>\n",
       "      <td>280.298611</td>\n",
       "      <td>119.966317</td>\n",
       "      <td>104.0</td>\n",
       "      <td>180.0</td>\n",
       "      <td>265.5</td>\n",
       "      <td>360.5</td>\n",
       "      <td>622.0</td>\n",
       "    </tr>\n",
       "  </tbody>\n",
       "</table>\n",
       "</div>"
      ],
      "text/plain": [
       "            count        mean         std    min    25%    50%    75%    max\n",
       "Passengers  144.0  280.298611  119.966317  104.0  180.0  265.5  360.5  622.0"
      ]
     },
     "execution_count": 10,
     "metadata": {},
     "output_type": "execute_result"
    }
   ],
   "source": [
    "df.describe().T"
   ]
  },
  {
   "cell_type": "markdown",
   "id": "2ef41c45",
   "metadata": {
    "papermill": {
     "duration": 0.019177,
     "end_time": "2023-12-03T14:54:55.010452",
     "exception": false,
     "start_time": "2023-12-03T14:54:54.991275",
     "status": "completed"
    },
    "tags": []
   },
   "source": [
    "### 3) Veriyi Hazırlamak"
   ]
  },
  {
   "cell_type": "code",
   "execution_count": 11,
   "id": "1a54c124",
   "metadata": {
    "execution": {
     "iopub.execute_input": "2023-12-03T14:54:55.052563Z",
     "iopub.status.busy": "2023-12-03T14:54:55.052232Z",
     "iopub.status.idle": "2023-12-03T14:54:55.061662Z",
     "shell.execute_reply": "2023-12-03T14:54:55.060814Z"
    },
    "papermill": {
     "duration": 0.034331,
     "end_time": "2023-12-03T14:54:55.063637",
     "exception": false,
     "start_time": "2023-12-03T14:54:55.029306",
     "status": "completed"
    },
    "tags": []
   },
   "outputs": [
    {
     "data": {
      "text/html": [
       "<div>\n",
       "<style scoped>\n",
       "    .dataframe tbody tr th:only-of-type {\n",
       "        vertical-align: middle;\n",
       "    }\n",
       "\n",
       "    .dataframe tbody tr th {\n",
       "        vertical-align: top;\n",
       "    }\n",
       "\n",
       "    .dataframe thead th {\n",
       "        text-align: right;\n",
       "    }\n",
       "</style>\n",
       "<table border=\"1\" class=\"dataframe\">\n",
       "  <thead>\n",
       "    <tr style=\"text-align: right;\">\n",
       "      <th></th>\n",
       "      <th>Month</th>\n",
       "      <th>Passengers</th>\n",
       "    </tr>\n",
       "  </thead>\n",
       "  <tbody>\n",
       "    <tr>\n",
       "      <th>139</th>\n",
       "      <td>1960-08</td>\n",
       "      <td>606.0</td>\n",
       "    </tr>\n",
       "    <tr>\n",
       "      <th>140</th>\n",
       "      <td>1960-09</td>\n",
       "      <td>508.0</td>\n",
       "    </tr>\n",
       "    <tr>\n",
       "      <th>141</th>\n",
       "      <td>1960-10</td>\n",
       "      <td>461.0</td>\n",
       "    </tr>\n",
       "    <tr>\n",
       "      <th>142</th>\n",
       "      <td>1960-11</td>\n",
       "      <td>390.0</td>\n",
       "    </tr>\n",
       "    <tr>\n",
       "      <th>143</th>\n",
       "      <td>1960-12</td>\n",
       "      <td>432.0</td>\n",
       "    </tr>\n",
       "  </tbody>\n",
       "</table>\n",
       "</div>"
      ],
      "text/plain": [
       "       Month  Passengers\n",
       "139  1960-08       606.0\n",
       "140  1960-09       508.0\n",
       "141  1960-10       461.0\n",
       "142  1960-11       390.0\n",
       "143  1960-12       432.0"
      ]
     },
     "execution_count": 11,
     "metadata": {},
     "output_type": "execute_result"
    }
   ],
   "source": [
    "df = df[:144]  # Son satır sıkıntılı olduğu için attık\n",
    "df.tail()"
   ]
  },
  {
   "cell_type": "code",
   "execution_count": 12,
   "id": "799b0342",
   "metadata": {
    "execution": {
     "iopub.execute_input": "2023-12-03T14:54:55.103423Z",
     "iopub.status.busy": "2023-12-03T14:54:55.103113Z",
     "iopub.status.idle": "2023-12-03T14:54:55.126827Z",
     "shell.execute_reply": "2023-12-03T14:54:55.125824Z"
    },
    "papermill": {
     "duration": 0.046243,
     "end_time": "2023-12-03T14:54:55.129459",
     "exception": false,
     "start_time": "2023-12-03T14:54:55.083216",
     "status": "completed"
    },
    "tags": []
   },
   "outputs": [
    {
     "name": "stdout",
     "output_type": "stream",
     "text": [
      "<class 'pandas.core.frame.DataFrame'>\n",
      "RangeIndex: 144 entries, 0 to 143\n",
      "Data columns (total 2 columns):\n",
      " #   Column      Non-Null Count  Dtype         \n",
      "---  ------      --------------  -----         \n",
      " 0   Month       144 non-null    datetime64[ns]\n",
      " 1   Passengers  144 non-null    float64       \n",
      "dtypes: datetime64[ns](1), float64(1)\n",
      "memory usage: 2.4 KB\n"
     ]
    }
   ],
   "source": [
    "# Month aslında date değişkeni ama burda object diye görünüyor.\n",
    "df[\"Month\"] = pd.to_datetime(df[\"Month\"])\n",
    "df.info()"
   ]
  },
  {
   "cell_type": "code",
   "execution_count": 13,
   "id": "3d63ac72",
   "metadata": {
    "execution": {
     "iopub.execute_input": "2023-12-03T14:54:55.169615Z",
     "iopub.status.busy": "2023-12-03T14:54:55.169308Z",
     "iopub.status.idle": "2023-12-03T14:54:55.174719Z",
     "shell.execute_reply": "2023-12-03T14:54:55.173918Z"
    },
    "papermill": {
     "duration": 0.027395,
     "end_time": "2023-12-03T14:54:55.176783",
     "exception": false,
     "start_time": "2023-12-03T14:54:55.149388",
     "status": "completed"
    },
    "tags": []
   },
   "outputs": [
    {
     "name": "stdout",
     "output_type": "stream",
     "text": [
      "Minimum Tarih : 1949-01-01 00:00:00\n",
      "Maximum Tarih : 1960-12-01 00:00:00\n"
     ]
    }
   ],
   "source": [
    "print(\"Minimum Tarih :\", df[\"Month\"].min())\n",
    "print(\"Maximum Tarih :\", df[\"Month\"].max())"
   ]
  },
  {
   "cell_type": "markdown",
   "id": "2b6387f2",
   "metadata": {
    "papermill": {
     "duration": 0.022351,
     "end_time": "2023-12-03T14:54:55.218303",
     "exception": false,
     "start_time": "2023-12-03T14:54:55.195952",
     "status": "completed"
    },
    "tags": []
   },
   "source": [
    "2 değişkenimiz var. Burdaki ay değişkeni modele verilecek olan değil. Bu veri setindeki indeksimiz. Bunu indekse gönderelim:"
   ]
  },
  {
   "cell_type": "code",
   "execution_count": 14,
   "id": "39e8f036",
   "metadata": {
    "execution": {
     "iopub.execute_input": "2023-12-03T14:54:55.259728Z",
     "iopub.status.busy": "2023-12-03T14:54:55.259414Z",
     "iopub.status.idle": "2023-12-03T14:54:55.268893Z",
     "shell.execute_reply": "2023-12-03T14:54:55.268059Z"
    },
    "papermill": {
     "duration": 0.031917,
     "end_time": "2023-12-03T14:54:55.271082",
     "exception": false,
     "start_time": "2023-12-03T14:54:55.239165",
     "status": "completed"
    },
    "tags": []
   },
   "outputs": [
    {
     "data": {
      "text/html": [
       "<div>\n",
       "<style scoped>\n",
       "    .dataframe tbody tr th:only-of-type {\n",
       "        vertical-align: middle;\n",
       "    }\n",
       "\n",
       "    .dataframe tbody tr th {\n",
       "        vertical-align: top;\n",
       "    }\n",
       "\n",
       "    .dataframe thead th {\n",
       "        text-align: right;\n",
       "    }\n",
       "</style>\n",
       "<table border=\"1\" class=\"dataframe\">\n",
       "  <thead>\n",
       "    <tr style=\"text-align: right;\">\n",
       "      <th></th>\n",
       "      <th>Month</th>\n",
       "      <th>Passengers</th>\n",
       "    </tr>\n",
       "    <tr>\n",
       "      <th>Month</th>\n",
       "      <th></th>\n",
       "      <th></th>\n",
       "    </tr>\n",
       "  </thead>\n",
       "  <tbody>\n",
       "    <tr>\n",
       "      <th>1949-01-01</th>\n",
       "      <td>1949-01-01</td>\n",
       "      <td>112.0</td>\n",
       "    </tr>\n",
       "    <tr>\n",
       "      <th>1949-02-01</th>\n",
       "      <td>1949-02-01</td>\n",
       "      <td>118.0</td>\n",
       "    </tr>\n",
       "    <tr>\n",
       "      <th>1949-03-01</th>\n",
       "      <td>1949-03-01</td>\n",
       "      <td>132.0</td>\n",
       "    </tr>\n",
       "    <tr>\n",
       "      <th>1949-04-01</th>\n",
       "      <td>1949-04-01</td>\n",
       "      <td>129.0</td>\n",
       "    </tr>\n",
       "    <tr>\n",
       "      <th>1949-05-01</th>\n",
       "      <td>1949-05-01</td>\n",
       "      <td>121.0</td>\n",
       "    </tr>\n",
       "  </tbody>\n",
       "</table>\n",
       "</div>"
      ],
      "text/plain": [
       "                Month  Passengers\n",
       "Month                            \n",
       "1949-01-01 1949-01-01       112.0\n",
       "1949-02-01 1949-02-01       118.0\n",
       "1949-03-01 1949-03-01       132.0\n",
       "1949-04-01 1949-04-01       129.0\n",
       "1949-05-01 1949-05-01       121.0"
      ]
     },
     "execution_count": 14,
     "metadata": {},
     "output_type": "execute_result"
    }
   ],
   "source": [
    "df.index = df[\"Month\"]\n",
    "df.head()"
   ]
  },
  {
   "cell_type": "code",
   "execution_count": 15,
   "id": "649cc5e5",
   "metadata": {
    "execution": {
     "iopub.execute_input": "2023-12-03T14:54:55.313148Z",
     "iopub.status.busy": "2023-12-03T14:54:55.312812Z",
     "iopub.status.idle": "2023-12-03T14:54:55.322945Z",
     "shell.execute_reply": "2023-12-03T14:54:55.321724Z"
    },
    "papermill": {
     "duration": 0.032815,
     "end_time": "2023-12-03T14:54:55.325490",
     "exception": false,
     "start_time": "2023-12-03T14:54:55.292675",
     "status": "completed"
    },
    "tags": []
   },
   "outputs": [
    {
     "data": {
      "text/html": [
       "<div>\n",
       "<style scoped>\n",
       "    .dataframe tbody tr th:only-of-type {\n",
       "        vertical-align: middle;\n",
       "    }\n",
       "\n",
       "    .dataframe tbody tr th {\n",
       "        vertical-align: top;\n",
       "    }\n",
       "\n",
       "    .dataframe thead th {\n",
       "        text-align: right;\n",
       "    }\n",
       "</style>\n",
       "<table border=\"1\" class=\"dataframe\">\n",
       "  <thead>\n",
       "    <tr style=\"text-align: right;\">\n",
       "      <th></th>\n",
       "      <th>Passengers</th>\n",
       "    </tr>\n",
       "    <tr>\n",
       "      <th>Month</th>\n",
       "      <th></th>\n",
       "    </tr>\n",
       "  </thead>\n",
       "  <tbody>\n",
       "    <tr>\n",
       "      <th>1949-01-01</th>\n",
       "      <td>112.0</td>\n",
       "    </tr>\n",
       "    <tr>\n",
       "      <th>1949-02-01</th>\n",
       "      <td>118.0</td>\n",
       "    </tr>\n",
       "    <tr>\n",
       "      <th>1949-03-01</th>\n",
       "      <td>132.0</td>\n",
       "    </tr>\n",
       "    <tr>\n",
       "      <th>1949-04-01</th>\n",
       "      <td>129.0</td>\n",
       "    </tr>\n",
       "    <tr>\n",
       "      <th>1949-05-01</th>\n",
       "      <td>121.0</td>\n",
       "    </tr>\n",
       "  </tbody>\n",
       "</table>\n",
       "</div>"
      ],
      "text/plain": [
       "            Passengers\n",
       "Month                 \n",
       "1949-01-01       112.0\n",
       "1949-02-01       118.0\n",
       "1949-03-01       132.0\n",
       "1949-04-01       129.0\n",
       "1949-05-01       121.0"
      ]
     },
     "execution_count": 15,
     "metadata": {},
     "output_type": "execute_result"
    }
   ],
   "source": [
    "# Month'u indekse gönderdikten sonra değişkenler arasından silmemiz lazım.\n",
    "df.drop(\"Month\", axis=1, inplace = True)\n",
    "df.head()"
   ]
  },
  {
   "cell_type": "code",
   "execution_count": 16,
   "id": "544ce849",
   "metadata": {
    "execution": {
     "iopub.execute_input": "2023-12-03T14:54:55.377081Z",
     "iopub.status.busy": "2023-12-03T14:54:55.376533Z",
     "iopub.status.idle": "2023-12-03T14:54:55.380681Z",
     "shell.execute_reply": "2023-12-03T14:54:55.380081Z"
    },
    "papermill": {
     "duration": 0.033994,
     "end_time": "2023-12-03T14:54:55.383847",
     "exception": false,
     "start_time": "2023-12-03T14:54:55.349853",
     "status": "completed"
    },
    "tags": []
   },
   "outputs": [],
   "source": [
    "result_df = df.copy()"
   ]
  },
  {
   "cell_type": "code",
   "execution_count": 17,
   "id": "778244c9",
   "metadata": {
    "execution": {
     "iopub.execute_input": "2023-12-03T14:54:55.427306Z",
     "iopub.status.busy": "2023-12-03T14:54:55.426948Z",
     "iopub.status.idle": "2023-12-03T14:54:55.962652Z",
     "shell.execute_reply": "2023-12-03T14:54:55.961728Z"
    },
    "papermill": {
     "duration": 0.558827,
     "end_time": "2023-12-03T14:54:55.965370",
     "exception": false,
     "start_time": "2023-12-03T14:54:55.406543",
     "status": "completed"
    },
    "tags": []
   },
   "outputs": [
    {
     "data": {
      "image/png": "[encoded data removed]",
      "text/plain": [
       "<Figure size 1400x800 with 1 Axes>"
      ]
     },
     "metadata": {},
     "output_type": "display_data"
    }
   ],
   "source": [
    "df.plot(figsize=(14, 8), title= 'Monthly airline passengers');"
   ]
  },
  {
   "cell_type": "markdown",
   "id": "9aca3f5e",
   "metadata": {
    "papermill": {
     "duration": 0.020318,
     "end_time": "2023-12-03T14:54:56.006618",
     "exception": false,
     "start_time": "2023-12-03T14:54:55.986300",
     "status": "completed"
    },
    "tags": []
   },
   "source": [
    "Şu anda veri pandas df formatında. Modelleme işlemine başlarken bu veriyi numpy arrayine çevirmemiz gerekir."
   ]
  },
  {
   "cell_type": "code",
   "execution_count": 18,
   "id": "5a8afd6c",
   "metadata": {
    "execution": {
     "iopub.execute_input": "2023-12-03T14:54:56.048828Z",
     "iopub.status.busy": "2023-12-03T14:54:56.048491Z",
     "iopub.status.idle": "2023-12-03T14:54:56.055293Z",
     "shell.execute_reply": "2023-12-03T14:54:56.054373Z"
    },
    "papermill": {
     "duration": 0.030445,
     "end_time": "2023-12-03T14:54:56.057316",
     "exception": false,
     "start_time": "2023-12-03T14:54:56.026871",
     "status": "completed"
    },
    "tags": []
   },
   "outputs": [
    {
     "data": {
      "text/plain": [
       "array([112., 118., 132., 129., 121.])"
      ]
     },
     "execution_count": 18,
     "metadata": {},
     "output_type": "execute_result"
    }
   ],
   "source": [
    "data = df[\"Passengers\"].values\n",
    "data[:5]      # data.head() --> head methodu df için kullanılabilen bir method."
   ]
  },
  {
   "cell_type": "code",
   "execution_count": 19,
   "id": "9a6506e2",
   "metadata": {
    "execution": {
     "iopub.execute_input": "2023-12-03T14:54:56.100009Z",
     "iopub.status.busy": "2023-12-03T14:54:56.099667Z",
     "iopub.status.idle": "2023-12-03T14:54:56.104516Z",
     "shell.execute_reply": "2023-12-03T14:54:56.103667Z"
    },
    "papermill": {
     "duration": 0.028554,
     "end_time": "2023-12-03T14:54:56.106502",
     "exception": false,
     "start_time": "2023-12-03T14:54:56.077948",
     "status": "completed"
    },
    "tags": []
   },
   "outputs": [
    {
     "name": "stdout",
     "output_type": "stream",
     "text": [
      "<class 'numpy.ndarray'>\n",
      "<class 'numpy.float64'>\n"
     ]
    }
   ],
   "source": [
    "print(type(data[:5]))\n",
    "print(type(data[0]))"
   ]
  },
  {
   "cell_type": "code",
   "execution_count": 20,
   "id": "3c1c7094",
   "metadata": {
    "execution": {
     "iopub.execute_input": "2023-12-03T14:54:56.149910Z",
     "iopub.status.busy": "2023-12-03T14:54:56.149324Z",
     "iopub.status.idle": "2023-12-03T14:54:56.155593Z",
     "shell.execute_reply": "2023-12-03T14:54:56.154742Z"
    },
    "papermill": {
     "duration": 0.029807,
     "end_time": "2023-12-03T14:54:56.157577",
     "exception": false,
     "start_time": "2023-12-03T14:54:56.127770",
     "status": "completed"
    },
    "tags": []
   },
   "outputs": [
    {
     "data": {
      "text/plain": [
       "numpy.float32"
      ]
     },
     "execution_count": 20,
     "metadata": {},
     "output_type": "execute_result"
    }
   ],
   "source": [
    "data = data.astype(\"float32\")\n",
    "type(data[0])"
   ]
  },
  {
   "cell_type": "code",
   "execution_count": 21,
   "id": "c415eb95",
   "metadata": {
    "execution": {
     "iopub.execute_input": "2023-12-03T14:54:56.199895Z",
     "iopub.status.busy": "2023-12-03T14:54:56.199631Z",
     "iopub.status.idle": "2023-12-03T14:54:56.204907Z",
     "shell.execute_reply": "2023-12-03T14:54:56.204094Z"
    },
    "papermill": {
     "duration": 0.028832,
     "end_time": "2023-12-03T14:54:56.206983",
     "exception": false,
     "start_time": "2023-12-03T14:54:56.178151",
     "status": "completed"
    },
    "tags": []
   },
   "outputs": [
    {
     "data": {
      "text/plain": [
       "(144,)"
      ]
     },
     "execution_count": 21,
     "metadata": {},
     "output_type": "execute_result"
    }
   ],
   "source": [
    "data.shape   #Burda veriyi modele sokmak için 144'e 1 şeklinde bir dönüştürme yapmamız gerekiyor. "
   ]
  },
  {
   "cell_type": "code",
   "execution_count": 22,
   "id": "9fd1e23b",
   "metadata": {
    "execution": {
     "iopub.execute_input": "2023-12-03T14:54:56.249540Z",
     "iopub.status.busy": "2023-12-03T14:54:56.249284Z",
     "iopub.status.idle": "2023-12-03T14:54:56.254737Z",
     "shell.execute_reply": "2023-12-03T14:54:56.253912Z"
    },
    "papermill": {
     "duration": 0.02915,
     "end_time": "2023-12-03T14:54:56.256759",
     "exception": false,
     "start_time": "2023-12-03T14:54:56.227609",
     "status": "completed"
    },
    "tags": []
   },
   "outputs": [
    {
     "data": {
      "text/plain": [
       "(144, 1)"
      ]
     },
     "execution_count": 22,
     "metadata": {},
     "output_type": "execute_result"
    }
   ],
   "source": [
    "data = data.reshape(-1,1)\n",
    "data.shape"
   ]
  },
  {
   "cell_type": "markdown",
   "id": "70ef7bb8",
   "metadata": {
    "papermill": {
     "duration": 0.021684,
     "end_time": "2023-12-03T14:54:56.299210",
     "exception": false,
     "start_time": "2023-12-03T14:54:56.277526",
     "status": "completed"
    },
    "tags": []
   },
   "source": [
    "Burda veriyi train- test olarak ikiye ayıracağız. Zaman problemlerinde bu ayırma işlemleri rastgele değil örüntüyü kaybetmemek amacıyla daha dikkatli bir şekilde egerçekleştirilir."
   ]
  },
  {
   "cell_type": "code",
   "execution_count": 23,
   "id": "696e0cdf",
   "metadata": {
    "execution": {
     "iopub.execute_input": "2023-12-03T14:54:56.342988Z",
     "iopub.status.busy": "2023-12-03T14:54:56.342289Z",
     "iopub.status.idle": "2023-12-03T14:54:56.347184Z",
     "shell.execute_reply": "2023-12-03T14:54:56.346323Z"
    },
    "papermill": {
     "duration": 0.028707,
     "end_time": "2023-12-03T14:54:56.349012",
     "exception": false,
     "start_time": "2023-12-03T14:54:56.320305",
     "status": "completed"
    },
    "tags": []
   },
   "outputs": [],
   "source": [
    "def split_data(dataframe, test_size):\n",
    "    position = int(round(len(dataframe) * (1 - test_size)))\n",
    "    train = dataframe[:position]\n",
    "    test = dataframe[position:]\n",
    "    return train, test, position"
   ]
  },
  {
   "cell_type": "code",
   "execution_count": 24,
   "id": "863e4bbb",
   "metadata": {
    "execution": {
     "iopub.execute_input": "2023-12-03T14:54:56.393017Z",
     "iopub.status.busy": "2023-12-03T14:54:56.392354Z",
     "iopub.status.idle": "2023-12-03T14:54:56.397392Z",
     "shell.execute_reply": "2023-12-03T14:54:56.396491Z"
    },
    "papermill": {
     "duration": 0.028969,
     "end_time": "2023-12-03T14:54:56.399294",
     "exception": false,
     "start_time": "2023-12-03T14:54:56.370325",
     "status": "completed"
    },
    "tags": []
   },
   "outputs": [
    {
     "name": "stdout",
     "output_type": "stream",
     "text": [
      "(96, 1) (48, 1)\n"
     ]
    }
   ],
   "source": [
    "train, test, position = split_data(data, 0.33)\n",
    "print(train.shape, test.shape)"
   ]
  },
  {
   "cell_type": "code",
   "execution_count": 25,
   "id": "f4116236",
   "metadata": {
    "execution": {
     "iopub.execute_input": "2023-12-03T14:54:56.442878Z",
     "iopub.status.busy": "2023-12-03T14:54:56.442612Z",
     "iopub.status.idle": "2023-12-03T14:54:56.448533Z",
     "shell.execute_reply": "2023-12-03T14:54:56.447666Z"
    },
    "papermill": {
     "duration": 0.029807,
     "end_time": "2023-12-03T14:54:56.450387",
     "exception": false,
     "start_time": "2023-12-03T14:54:56.420580",
     "status": "completed"
    },
    "tags": []
   },
   "outputs": [],
   "source": [
    "# Minmaxscaler ile passengers sayısını 0-1 arasında dönüştürücez.\n",
    "scaler_train = MinMaxScaler(feature_range=(0, 1))\n",
    "train = scaler_train.fit_transform(train)\n",
    "\n",
    "scaler_test = MinMaxScaler(feature_range=(0, 1))\n",
    "test = scaler_test.fit_transform(test)"
   ]
  },
  {
   "cell_type": "code",
   "execution_count": 26,
   "id": "3acc2c26",
   "metadata": {
    "execution": {
     "iopub.execute_input": "2023-12-03T14:54:56.494422Z",
     "iopub.status.busy": "2023-12-03T14:54:56.494115Z",
     "iopub.status.idle": "2023-12-03T14:54:56.499884Z",
     "shell.execute_reply": "2023-12-03T14:54:56.499088Z"
    },
    "papermill": {
     "duration": 0.029626,
     "end_time": "2023-12-03T14:54:56.501710",
     "exception": false,
     "start_time": "2023-12-03T14:54:56.472084",
     "status": "completed"
    },
    "tags": []
   },
   "outputs": [
    {
     "data": {
      "text/plain": [
       "array([[0.02588999],\n",
       "       [0.04530746],\n",
       "       [0.09061491],\n",
       "       [0.08090615],\n",
       "       [0.05501619]], dtype=float32)"
      ]
     },
     "execution_count": 26,
     "metadata": {},
     "output_type": "execute_result"
    }
   ],
   "source": [
    "train[0:5]"
   ]
  },
  {
   "cell_type": "code",
   "execution_count": 27,
   "id": "157aeddd",
   "metadata": {
    "execution": {
     "iopub.execute_input": "2023-12-03T14:54:56.545527Z",
     "iopub.status.busy": "2023-12-03T14:54:56.545246Z",
     "iopub.status.idle": "2023-12-03T14:54:56.550994Z",
     "shell.execute_reply": "2023-12-03T14:54:56.550172Z"
    },
    "papermill": {
     "duration": 0.029719,
     "end_time": "2023-12-03T14:54:56.552925",
     "exception": false,
     "start_time": "2023-12-03T14:54:56.523206",
     "status": "completed"
    },
    "tags": []
   },
   "outputs": [
    {
     "data": {
      "text/plain": [
       "array([[0.04361373],\n",
       "       [0.        ],\n",
       "       [0.17133951],\n",
       "       [0.1464175 ],\n",
       "       [0.16822433]], dtype=float32)"
      ]
     },
     "execution_count": 27,
     "metadata": {},
     "output_type": "execute_result"
    }
   ],
   "source": [
    "test[0:5]"
   ]
  },
  {
   "cell_type": "markdown",
   "id": "82df096e",
   "metadata": {
    "papermill": {
     "duration": 0.021105,
     "end_time": "2023-12-03T14:54:56.596290",
     "exception": false,
     "start_time": "2023-12-03T14:54:56.575185",
     "status": "completed"
    },
    "tags": []
   },
   "source": [
    "Şimdi veri setimize yeni bir değişken ekliycez. Zaman serilerinde serinin T anındaki değeri en fazla kendisinden bir önceki zaman periyodundan etkileniyor. Yani pazartesinin yolcu sayısıyla ilgileniyorsak ya da satışlaryla ilgileniyorsak günlük periyoda sahip bir veri setinde pazartesinin fiyatını/ yolcu sayısını vs en fazla etkileyen değişken pazar günü değişkenidir. Bizim verimizdeki periyot ise 1 aylık. 1 aylık tahminler yaptığımızdan dolayı T anı en çok T-1'den etkileniyor olduğundan dolayı bir önceki ayın değerlerini bir feature olarak modele koymaya çalışıyor olacağız. "
   ]
  },
  {
   "cell_type": "code",
   "execution_count": 28,
   "id": "3ace18fa",
   "metadata": {
    "execution": {
     "iopub.execute_input": "2023-12-03T14:54:56.640215Z",
     "iopub.status.busy": "2023-12-03T14:54:56.639855Z",
     "iopub.status.idle": "2023-12-03T14:54:56.645164Z",
     "shell.execute_reply": "2023-12-03T14:54:56.644393Z"
    },
    "papermill": {
     "duration": 0.029473,
     "end_time": "2023-12-03T14:54:56.646971",
     "exception": false,
     "start_time": "2023-12-03T14:54:56.617498",
     "status": "completed"
    },
    "tags": []
   },
   "outputs": [],
   "source": [
    "def create_features(data, lookback):       #lookback şu kadar adım geriye bak demek\n",
    "    X, Y = [], []\n",
    "    for i in range(lookback, len(data)):\n",
    "        X.append(data[i - lookback:i, 0])\n",
    "        Y.append(data[i, 0])\n",
    "    return np.array(X), np.array(Y)"
   ]
  },
  {
   "cell_type": "code",
   "execution_count": 29,
   "id": "f1c8a7b2",
   "metadata": {
    "execution": {
     "iopub.execute_input": "2023-12-03T14:54:56.691113Z",
     "iopub.status.busy": "2023-12-03T14:54:56.690513Z",
     "iopub.status.idle": "2023-12-03T14:54:56.697095Z",
     "shell.execute_reply": "2023-12-03T14:54:56.696070Z"
    },
    "papermill": {
     "duration": 0.030913,
     "end_time": "2023-12-03T14:54:56.699044",
     "exception": false,
     "start_time": "2023-12-03T14:54:56.668131",
     "status": "completed"
    },
    "tags": []
   },
   "outputs": [
    {
     "name": "stdout",
     "output_type": "stream",
     "text": [
      "(95, 1) (95,) (47, 1) (47,)\n"
     ]
    }
   ],
   "source": [
    "lookback = 1\n",
    "\n",
    "# Train Veri Seti\n",
    "X_train, y_train = create_features(train, lookback)\n",
    "\n",
    "# Test Veri Seti\n",
    "X_test, y_test = create_features(test, lookback)\n",
    "\n",
    "print(X_train.shape, y_train.shape, X_test.shape, y_test.shape)"
   ]
  },
  {
   "cell_type": "markdown",
   "id": "b556cbf4",
   "metadata": {
    "papermill": {
     "duration": 0.021065,
     "end_time": "2023-12-03T14:54:56.741596",
     "exception": false,
     "start_time": "2023-12-03T14:54:56.720531",
     "status": "completed"
    },
    "tags": []
   },
   "source": [
    "Öncesinde 96,1  ve 48,1 idi. Şİmdi 95 ve 47 olmasının sebebi 1 lookback yapmamız. Yani bir periyot gerisinden veriyi kaydırarak bir değişken oluşturma işlemi gerçekleştirdik. Bundan dolayı gözlem birimi sayıları train ve test setinde 1 tane eksik gibi gözüküyor."
   ]
  },
  {
   "cell_type": "markdown",
   "id": "cf54e76b",
   "metadata": {
    "papermill": {
     "duration": 0.021187,
     "end_time": "2023-12-03T14:54:56.784186",
     "exception": false,
     "start_time": "2023-12-03T14:54:56.762999",
     "status": "completed"
    },
    "tags": []
   },
   "source": [
    "## NOT/////////////////////////////////////////////////////////////////////////////////////////////////"
   ]
  },
  {
   "cell_type": "code",
   "execution_count": 30,
   "id": "23765d4a",
   "metadata": {
    "execution": {
     "iopub.execute_input": "2023-12-03T14:54:56.828803Z",
     "iopub.status.busy": "2023-12-03T14:54:56.827945Z",
     "iopub.status.idle": "2023-12-03T14:54:56.836138Z",
     "shell.execute_reply": "2023-12-03T14:54:56.835245Z"
    },
    "papermill": {
     "duration": 0.032785,
     "end_time": "2023-12-03T14:54:56.838350",
     "exception": false,
     "start_time": "2023-12-03T14:54:56.805565",
     "status": "completed"
    },
    "tags": []
   },
   "outputs": [
    {
     "name": "stdout",
     "output_type": "stream",
     "text": [
      "X_sample:\n",
      "[[1 2]\n",
      " [2 3]\n",
      " [3 4]\n",
      " [4 5]\n",
      " [5 6]\n",
      " [6 7]\n",
      " [7 8]\n",
      " [8 9]]\n",
      "\n",
      "y_sample:\n",
      "[ 3  4  5  6  7  8  9 10]\n"
     ]
    }
   ],
   "source": [
    "#######################################################################################\n",
    "#################BU FONKSİYONLA İLGİLİ NOT#############################################\n",
    "def create_features(data, lookback):\n",
    "    X, Y = [], []\n",
    "    for i in range(lookback, len(data)):\n",
    "        X.append(data[i - lookback:i])\n",
    "        Y.append(data[i])\n",
    "    return np.array(X), np.array(Y)\n",
    "\n",
    "import numpy as np\n",
    "\n",
    "# Örnek zaman serisi\n",
    "sample_data = np.array([1, 2, 3, 4, 5, 6, 7, 8, 9, 10])\n",
    "\n",
    "lookback = 2\n",
    "X_sample, y_sample = create_features(sample_data, lookback)\n",
    "\n",
    "# Sonuçları görüntüle\n",
    "print(\"X_sample:\")\n",
    "print(X_sample)\n",
    "\n",
    "print(\"\\ny_sample:\")\n",
    "print(y_sample)\n"
   ]
  },
  {
   "cell_type": "markdown",
   "id": "ae729ef8",
   "metadata": {
    "papermill": {
     "duration": 0.021522,
     "end_time": "2023-12-03T14:54:56.881719",
     "exception": false,
     "start_time": "2023-12-03T14:54:56.860197",
     "status": "completed"
    },
    "tags": []
   },
   "source": [
    "Burada her bir satır, X_sample'da bir özellik vektörünü temsil eder. Örneğin, ilk satır [1, 2] önceki iki zaman adımının değerlerini içerir ve bu vektörün karşılık gelen y_sample değeri 3'tür. Bu işlem, orijinal zaman serisi verisini kullanarak lookback kadar önceki değerlere dayalı özellikleri ve hedef çıktıları oluşturur."
   ]
  },
  {
   "cell_type": "code",
   "execution_count": 31,
   "id": "e84e492a",
   "metadata": {
    "execution": {
     "iopub.execute_input": "2023-12-03T14:54:56.926584Z",
     "iopub.status.busy": "2023-12-03T14:54:56.925918Z",
     "iopub.status.idle": "2023-12-03T14:54:56.932519Z",
     "shell.execute_reply": "2023-12-03T14:54:56.931597Z"
    },
    "papermill": {
     "duration": 0.031286,
     "end_time": "2023-12-03T14:54:56.934627",
     "exception": false,
     "start_time": "2023-12-03T14:54:56.903341",
     "status": "completed"
    },
    "tags": []
   },
   "outputs": [
    {
     "name": "stdout",
     "output_type": "stream",
     "text": [
      "X_sample:\n",
      "[[1]\n",
      " [2]\n",
      " [3]\n",
      " [4]\n",
      " [5]\n",
      " [6]\n",
      " [7]\n",
      " [8]\n",
      " [9]]\n",
      "\n",
      "y_sample:\n",
      "[ 2  3  4  5  6  7  8  9 10]\n"
     ]
    }
   ],
   "source": [
    "# Örnek zaman serisi\n",
    "sample_data = np.array([1, 2, 3, 4, 5, 6, 7, 8, 9, 10])\n",
    "\n",
    "lookback = 1\n",
    "X_sample, y_sample = create_features(sample_data, lookback)\n",
    "\n",
    "# Sonuçları görüntüle\n",
    "print(\"X_sample:\")\n",
    "print(X_sample)\n",
    "\n",
    "print(\"\\ny_sample:\")\n",
    "print(y_sample)"
   ]
  },
  {
   "cell_type": "markdown",
   "id": "e7a8e756",
   "metadata": {
    "papermill": {
     "duration": 0.021386,
     "end_time": "2023-12-03T14:54:56.978350",
     "exception": false,
     "start_time": "2023-12-03T14:54:56.956964",
     "status": "completed"
    },
    "tags": []
   },
   "source": [
    "Lookback =1 olan versiyon. Her bir satır, X_sample'da bir özellik vektörünü temsil eder. Örneğin, ilk satır [1] önceki bir zaman adımının değerini içerir ve bu vektörün karşılık gelen y_sample değeri 2'dir. Bu işlem, orijinal zaman serisi verisini kullanarak bir önceki değere dayalı özellikleri ve hedef çıktıları oluşturur."
   ]
  },
  {
   "cell_type": "code",
   "execution_count": 32,
   "id": "f14337c0",
   "metadata": {
    "execution": {
     "iopub.execute_input": "2023-12-03T14:54:57.024263Z",
     "iopub.status.busy": "2023-12-03T14:54:57.023547Z",
     "iopub.status.idle": "2023-12-03T14:54:57.035752Z",
     "shell.execute_reply": "2023-12-03T14:54:57.034579Z"
    },
    "papermill": {
     "duration": 0.036843,
     "end_time": "2023-12-03T14:54:57.037101",
     "exception": true,
     "start_time": "2023-12-03T14:54:57.000258",
     "status": "failed"
    },
    "tags": []
   },
   "outputs": [
    {
     "ename": "SyntaxError",
     "evalue": "unterminated string literal (detected at line 18) (3066125399.py, line 18)",
     "output_type": "error",
     "traceback": [
      "\u001b[0;36m  Cell \u001b[0;32mIn[32], line 18\u001b[0;36m\u001b[0m\n\u001b[0;31m    Bir gözlem birimi kaybolduğu için de gözlem birimi sayısı 9'a düşer.\u001b[0m\n\u001b[0m                                                               ^\u001b[0m\n\u001b[0;31mSyntaxError\u001b[0m\u001b[0;31m:\u001b[0m unterminated string literal (detected at line 18)\n"
     ]
    }
   ],
   "source": [
    "Diyelim ki elimizde şu veri seti var:\n",
    "[1, 2, 3, 4, 5, 6, 7, 8, 9, 10]\n",
    "\n",
    "Ve lookback değerimizi 1 olarak belirledik. Bu durumda, her bir özellik vektörü (X) mevcut zaman adımından bir önceki \n",
    "zaman adımının değerini içerir, ve hedef çıktı (Y) mevcut zaman adımının değeridir.\n",
    "\n",
    "İlk özellik vektörü ve hedef çıktı şu şekilde olurdu:\n",
    "X_train: [1]\n",
    "y_train: 2\n",
    "    \n",
    "İkinci özellik vektörü ve hedef çıktı:\n",
    "X_train: [2]\n",
    "y_train: 3\n",
    "    \n",
    "Ve bu şekilde devam eder. Ancak, ilk zaman adımında bir önceki zaman adımı olmadığı için ilk gözlem birimi eksik:\n",
    "[1] -> [2] -> [3] -> ...    \n",
    "Dolayısıyla, orijinal veri setindeki 10 gözlem birimi, lookback değeri nedeniyle 9 özellik vektörü ve hedef çıktı içerir.\n",
    "Bir gözlem birimi kaybolduğu için de gözlem birimi sayısı 9'a düşer.\n",
    "\n",
    "Bu durumda, X_train bir özellik vektörüdür ve içinde sadece bir eleman barındırır. Bu eleman, mevcut zaman adımından bir \n",
    "önceki zaman adımının değerini temsil eder. y_train ise karşılık gelen hedef çıktıdır ve bu, mevcut zaman adımının değerini\n",
    "temsil eder.\n",
    "\n",
    "Örneğin, X_train: [1] ve y_train: 2 ifadesi şu anlama gelir: Modelin eğitimi sırasında, modele bir örnek verildiğinde,\n",
    "            modelin giriş olarak [1] özellik vektörünü alıp, hedef çıktı olarak da 2'yi tahmin etmesi beklenir.\n",
    "\n",
    "Bu, aslında bir zaman serisi verisi üzerinde bir önceki zaman adımının değerine dayalı olarak bir sonraki zaman adımının\n",
    "tahmin edilmesine yönelik bir örnek oluşturma yöntemidir. Yani, model, bir zaman serisindeki desenleri öğrenerek,\n",
    "mevcut zaman adımındaki değeri bir önceki zaman adımının değerine dayanarak tahmin etmeye çalışır."
   ]
  },
  {
   "cell_type": "markdown",
   "id": "e441a7f8",
   "metadata": {
    "papermill": {
     "duration": null,
     "end_time": null,
     "exception": null,
     "start_time": null,
     "status": "pending"
    },
    "tags": []
   },
   "source": [
    "## ////////////////////////////////////////////////////////////////////////////////////////////////"
   ]
  },
  {
   "cell_type": "markdown",
   "id": "cc28e52f",
   "metadata": {
    "papermill": {
     "duration": null,
     "end_time": null,
     "exception": null,
     "start_time": null,
     "status": "pending"
    },
    "tags": []
   },
   "source": [
    "Yeniden ölçeklendirme ve feature ekleme işlemlerimiz tamamlandı. Şimdi ise veri setimizi yeniden şekillendirerek 3 boyutlu bir hale getirmemiz gerekiyor olacak. Yani sinir ağına göndermeden önce veri setini RNN'nin istediği formata getirmemiz gerekmektedir. Bunu reshape metoduyla gerçekleştiriyoruz."
   ]
  },
  {
   "cell_type": "code",
   "execution_count": null,
   "id": "35a18121",
   "metadata": {
    "execution": {
     "iopub.execute_input": "2023-12-03T08:36:48.070349Z",
     "iopub.status.busy": "2023-12-03T08:36:48.069378Z",
     "iopub.status.idle": "2023-12-03T08:36:48.076715Z",
     "shell.execute_reply": "2023-12-03T08:36:48.075644Z",
     "shell.execute_reply.started": "2023-12-03T08:36:48.070314Z"
    },
    "papermill": {
     "duration": null,
     "end_time": null,
     "exception": null,
     "start_time": null,
     "status": "pending"
    },
    "tags": []
   },
   "outputs": [],
   "source": [
    "# RNN'e gönderilecek verinin 3 boyutlu bir yapıda olması gerekir.\n",
    "X_train = np.reshape(X_train, (X_train.shape[0], 1, X_train.shape[1]))\n",
    "X_test = np.reshape(X_test, (X_test.shape[0], 1, X_test.shape[1]))\n",
    "y_train = y_train.reshape(-1, 1)\n",
    "y_test = y_test.reshape(-1, 1)\n",
    "\n",
    "print(X_train.shape, y_train.shape, X_test.shape, y_test.shape)"
   ]
  },
  {
   "cell_type": "markdown",
   "id": "abc398f6",
   "metadata": {
    "papermill": {
     "duration": null,
     "end_time": null,
     "exception": null,
     "start_time": null,
     "status": "pending"
    },
    "tags": []
   },
   "source": [
    "Bu RNN'nin bizden istediği format. Bundan dolayı veriyi tek değişken varsa dahi bir boyut ekleyerek aslında 2 boyuta çıkardık. Eğer 2 değişken varsa veya daha fazla sayıda değişken varsa bunu 3 boyutlu bir formata getirdik. "
   ]
  },
  {
   "cell_type": "markdown",
   "id": "714c4111",
   "metadata": {
    "papermill": {
     "duration": null,
     "end_time": null,
     "exception": null,
     "start_time": null,
     "status": "pending"
    },
    "tags": []
   },
   "source": [
    "## 4) Modelleme (Modeling)"
   ]
  },
  {
   "cell_type": "code",
   "execution_count": null,
   "id": "c4821793",
   "metadata": {
    "execution": {
     "iopub.execute_input": "2023-12-03T08:36:50.168297Z",
     "iopub.status.busy": "2023-12-03T08:36:50.167909Z",
     "iopub.status.idle": "2023-12-03T08:36:50.270502Z",
     "shell.execute_reply": "2023-12-03T08:36:50.269565Z",
     "shell.execute_reply.started": "2023-12-03T08:36:50.168261Z"
    },
    "papermill": {
     "duration": null,
     "end_time": null,
     "exception": null,
     "start_time": null,
     "status": "pending"
    },
    "tags": []
   },
   "outputs": [],
   "source": [
    "model = Sequential()   # SimpleRNN --> Kuracağımız sinir ağının ismi.\n",
    "model.add(SimpleRNN(units=50, activation='relu', input_shape=(X_train.shape[1], lookback)))  # RNN'deki bu nöronlar birbirinden tamamen bağımsız değil. Birbirleriyle iletişim kurarak geçmişteki bilgiyi birbirlerine transfer edebilirler.\n",
    "model.add(Dropout(0.2))        # Sinir ağının overfit etmesini önlemek için. Her iterasyonda %2 rastgele nöronların söndürülerek aşırı öğrenmenin önüne geçilmesini bekliyoruz.\n",
    "model.add(Dense(1))     # Çıkış katmanımız. Bunda da 1 tane nöron var. 1 tane çıktımız var. Neden? Çünkü burda çıktıdan beklediğimiz değer bir sınıf değeri değil regresyon benzeri bir sayısal tahmin değeri.\n",
    "\n",
    "model.summary()"
   ]
  },
  {
   "cell_type": "markdown",
   "id": "d73beb62",
   "metadata": {
    "papermill": {
     "duration": null,
     "end_time": null,
     "exception": null,
     "start_time": null,
     "status": "pending"
    },
    "tags": []
   },
   "source": [
    "Modelin dış cephesini tamamladık yani mimarisini. Şimdi iç kısmına geçiyoruz."
   ]
  },
  {
   "cell_type": "markdown",
   "id": "ace32575",
   "metadata": {
    "papermill": {
     "duration": null,
     "end_time": null,
     "exception": null,
     "start_time": null,
     "status": "pending"
    },
    "tags": []
   },
   "source": [
    "Patience = Eğitimin durdurulacağı iyileşme olmayan dönemin sayısı. Yani 2, 3, 5 iterasyon sonucunda validasyon lossunda ilerleme yoksa artık dur demenin yolu.\n",
    "\n",
    "Verbose = İşlemin raporlanma şekli.\n",
    "\n",
    "Mode = Modelin gelişimini takip etmekle ilgili bir parametre. Min modunda izlediğimiz miktarın azalması durduğunda eğitim durur.  Yani burdali val_loss'da azalma durursa eğitim durur anlamına gelir. Max modunda ise izlenen miktarın artması durduğunda eğitim durur. \n",
    "\n",
    "ModelCheckpoint kullanma sebebimiz modeli kaydetme görevleriyle ilgilidir. İstersek en iyi istersek diğer modelleride kaydedebiliriz. İstersek en iyi modelle birlikte sadece modelin ağırlıklarını da kaydedebiliriz.\n",
    "\n",
    "\n",
    "Modelin optimizasyon metriklerinin belirlenmesi işlemi compile() fonksiyonu tarafından gerçekleştirilir.\n",
    "\n",
    "Bu fonksiyon, modelin derlenmesi (compile) aşamasında kullanılan kayıp fonksiyonunu, optimizasyon algoritmasını ve isteğe bağlı olarak takip edilecek metrikleri belirlemenizi sağlar."
   ]
  },
  {
   "cell_type": "code",
   "execution_count": null,
   "id": "e421249c",
   "metadata": {
    "execution": {
     "iopub.execute_input": "2023-12-03T08:37:29.206558Z",
     "iopub.status.busy": "2023-12-03T08:37:29.205877Z",
     "iopub.status.idle": "2023-12-03T08:37:36.723744Z",
     "shell.execute_reply": "2023-12-03T08:37:36.722667Z",
     "shell.execute_reply.started": "2023-12-03T08:37:29.206527Z"
    },
    "papermill": {
     "duration": null,
     "end_time": null,
     "exception": null,
     "start_time": null,
     "status": "pending"
    },
    "tags": []
   },
   "outputs": [],
   "source": [
    "from tensorflow.keras.optimizers import Adam\n",
    "\n",
    "# Optimizasyon ve Değerlendirme Metrikleri Ayarlanması\n",
    "# Modelin derlenmesi\n",
    "model.compile(loss='mean_squared_error', optimizer=Adam()) # loss fonku olarak mse kullandık. Bu mse loss fonksiyonunu optimize etmek için adam yöntemini kullan dedik. \n",
    "\n",
    "# Geri çağrıların ayarlanması\n",
    "callbacks = [\n",
    "    EarlyStopping(monitor='val_loss', patience=3, verbose=1, mode=\"min\"),   # aşırı öğrenmeye karşı kontrolü sağlamak için. Train ve validasyon setleri arasındaki değişimlere odaklanarak modelin aşırı öğrenmeye gitmesini engellemek için kullanılır. Normalde belirli bir noktaya kadar train ve test(validasyon) setinde loss beraber düşerken belirli bir noktadan sonra train setinde loss düşmeye devam ederken test setinde düşmeyi keser. Dolayısıyla earlystopping Validasyon lossunda düşme olmadığında dur der. \n",
    "    ModelCheckpoint(filepath='mymodel.h5', monitor='val_loss', mode='min', save_best_only=True, save_weights_only=False, verbose=1)  # model çalışmayı sürdürürken modeli kaydetme ayarlaması\n",
    "]\n",
    "\n",
    "# Bütün işlemleri gerçekleştirdik artık sıra modeli fit etmekte.\n",
    "\n",
    "# Modelin eğitimi\n",
    "history = model.fit(     # modelin sonuçlarını history'de tutuyoruz.\n",
    "    x=X_train,\n",
    "    y=y_train,\n",
    "    epochs=50,\n",
    "    batch_size=1,    #veri gruplarının boyutu\n",
    "    validation_data=(X_test, y_test),\n",
    "    callbacks=callbacks,\n",
    "    shuffle=False     # optimizasyon işlemi sırasında shuffle etme(karıştırma) dedik. \n",
    ")"
   ]
  },
  {
   "cell_type": "markdown",
   "id": "00cf53ec",
   "metadata": {
    "papermill": {
     "duration": null,
     "end_time": null,
     "exception": null,
     "start_time": null,
     "status": "pending"
    },
    "tags": []
   },
   "source": [
    "Validasyon lossunda artık bir ilerleme gözlemlenmeyince 9. epochta durdu. Eğer durdurmasaydık, yani 50 epochu tamamlasaydı bu sefer bütün veri setini ezberleyecekt ve görmediği verilerdeki başarı performansı kötü olacaktı. "
   ]
  },
  {
   "cell_type": "markdown",
   "id": "8382e425",
   "metadata": {
    "papermill": {
     "duration": null,
     "end_time": null,
     "exception": null,
     "start_time": null,
     "status": "pending"
    },
    "tags": []
   },
   "source": [
    "Modelimizin loss grafriğini oluşturalım. (Epoch sayısına karşılık lossumuz ne)"
   ]
  },
  {
   "cell_type": "code",
   "execution_count": null,
   "id": "e0fcc6e0",
   "metadata": {
    "execution": {
     "iopub.execute_input": "2023-12-03T09:53:02.455134Z",
     "iopub.status.busy": "2023-12-03T09:53:02.454129Z",
     "iopub.status.idle": "2023-12-03T09:53:02.795261Z",
     "shell.execute_reply": "2023-12-03T09:53:02.794035Z",
     "shell.execute_reply.started": "2023-12-03T09:53:02.455088Z"
    },
    "papermill": {
     "duration": null,
     "end_time": null,
     "exception": null,
     "start_time": null,
     "status": "pending"
    },
    "tags": []
   },
   "outputs": [],
   "source": [
    "plt.figure(figsize=(20, 5))\n",
    "\n",
    "# Training and Validation Loss Plot\n",
    "plt.subplot(1, 2, 2)\n",
    "plt.plot(history.history['loss'], label='Training Loss')\n",
    "plt.plot(history.history['val_loss'], label='Validation Loss')\n",
    "plt.legend(loc='upper right')\n",
    "plt.xlabel('Epoch', fontsize=16)\n",
    "plt.ylabel('Loss', fontsize=16)\n",
    "plt.ylim([0, max(plt.ylim())])\n",
    "plt.title('Training and Validation Loss', fontsize=16)\n",
    "\n",
    "plt.show()"
   ]
  },
  {
   "cell_type": "markdown",
   "id": "2d4b47b9",
   "metadata": {
    "papermill": {
     "duration": null,
     "end_time": null,
     "exception": null,
     "start_time": null,
     "status": "pending"
    },
    "tags": []
   },
   "source": [
    "## 5) Değerlendirme(Evaluation)\n",
    "Modelimizin tahmin etme başarısını daha anlaşılır bir açıdan ele alıcaz."
   ]
  },
  {
   "cell_type": "code",
   "execution_count": null,
   "id": "6d1d860a",
   "metadata": {
    "execution": {
     "iopub.execute_input": "2023-12-03T09:57:00.543540Z",
     "iopub.status.busy": "2023-12-03T09:57:00.543106Z",
     "iopub.status.idle": "2023-12-03T09:57:00.690067Z",
     "shell.execute_reply": "2023-12-03T09:57:00.689178Z",
     "shell.execute_reply.started": "2023-12-03T09:57:00.543507Z"
    },
    "papermill": {
     "duration": null,
     "end_time": null,
     "exception": null,
     "start_time": null,
     "status": "pending"
    },
    "tags": []
   },
   "outputs": [],
   "source": [
    "# Evaluate the model on the test set\n",
    "loss = model.evaluate(X_test, y_test, batch_size=1)  \n",
    "\n",
    "# Print the test loss as a percentage\n",
    "print(\"\\nTest loss: %.1f%%\" % (100.0 * loss))# Best modelin sonucu\n"
   ]
  },
  {
   "cell_type": "markdown",
   "id": "a97a91b3",
   "metadata": {
    "papermill": {
     "duration": null,
     "end_time": null,
     "exception": null,
     "start_time": null,
     "status": "pending"
    },
    "tags": []
   },
   "source": [
    "Burdaki loss ifadesi MSE değeri. Yani MSE'nin 0.02 geldiğini gözlemliyoruz. Yüzdeliği de %2.3. Bu ne anlama geliyor? Biz bu modeli kullanırken bir tahmin etme işlemi yaptığımızda yapabileceğimiz ortalama hatayı ifade ediyor. Yani gelecek periyotlarla ilgili mesela passengers sayısıyla ilgili örneğin 100 ise tahmin etme işlemimiz 100,2 gibi bir hatayla tahmin etmiş olucaz. Ama bu çok yüksek bir başarı. Yani bu gerçekten bizim hatamız mı? Dediğimizde aslında biz değişkenleri 0-1 arasında standartlaştırmıştık. Dolayısıyla kurmuş olduğumuz model ve elde ettiğimiz hatalara odaklandığımız loss fonkunun sonucu MSE olsa da standartlaştırılmış değerler üzerinden bir hata metriğidir. Dolayısıla burda modelimizi kullanarak train ve test seti için tahmin etme işlemleri yapıp hatalarımızı inversetransform diyerek daha doğru bir şekilde değerlendiriyor olucaz."
   ]
  },
  {
   "cell_type": "code",
   "execution_count": null,
   "id": "be7d550b",
   "metadata": {
    "execution": {
     "iopub.execute_input": "2023-12-03T10:36:33.590548Z",
     "iopub.status.busy": "2023-12-03T10:36:33.590121Z",
     "iopub.status.idle": "2023-12-03T10:36:33.909356Z",
     "shell.execute_reply": "2023-12-03T10:36:33.908269Z",
     "shell.execute_reply.started": "2023-12-03T10:36:33.590519Z"
    },
    "papermill": {
     "duration": null,
     "end_time": null,
     "exception": null,
     "start_time": null,
     "status": "pending"
    },
    "tags": []
   },
   "outputs": [],
   "source": [
    "# Tahminleri al ve normalize edilmiş hallerinden geri dönüştür\n",
    "train_predict = model.predict(X_train)\n",
    "test_predict = model.predict(X_test)\n",
    "\n",
    "\n",
    "# Modelleme öncesinde yapmış olduğumuz 0-1 arasında standartlaştırma işlemini scaler_train ve test içerisinden geriye çeviriyoruz.\n",
    "# Inverse transform bu değerleri geriye çeviriyor. Bu şekilde sağlıklı bir kıyaslama yapıyoruz.\n",
    "train_predict = scaler_train.inverse_transform(train_predict)\n",
    "test_predict = scaler_test.inverse_transform(test_predict)\n",
    "\n",
    "# Geri alma işlemini train ve testin gerçek değerleri içinde yapmamız gerekiyor.\n",
    "# Gerçek değerleri normalize edilmiş hallerinden geri dönüştür\n",
    "y_train_denormalized = scaler_train.inverse_transform(y_train)\n",
    "y_test_denormalized = scaler_test.inverse_transform(y_test)\n",
    "\n",
    "# Train veri setine ait RMSE değeri\n",
    "train_rmse = np.sqrt(mean_squared_error(y_train_denormalized, train_predict))\n",
    "\n",
    "# Test veri setine ait RMSE değeri\n",
    "test_rmse = np.sqrt(mean_squared_error(y_test_denormalized, test_predict))\n",
    "\n",
    "print(f\"Train RMSE: {train_rmse}\")\n",
    "print(f\"Test RMSE: {test_rmse}\")\n"
   ]
  },
  {
   "cell_type": "markdown",
   "id": "aff27331",
   "metadata": {
    "papermill": {
     "duration": null,
     "end_time": null,
     "exception": null,
     "start_time": null,
     "status": "pending"
    },
    "tags": []
   },
   "source": [
    "Train hatası 25 birim, test hatası 48 birim. Bu tahminlerde ne kadar başarılıyım? İyi miyim sorusunun cevabı da:"
   ]
  },
  {
   "cell_type": "code",
   "execution_count": null,
   "id": "2aa9f66c",
   "metadata": {
    "execution": {
     "iopub.execute_input": "2023-12-03T10:37:50.788614Z",
     "iopub.status.busy": "2023-12-03T10:37:50.787765Z",
     "iopub.status.idle": "2023-12-03T10:37:50.805834Z",
     "shell.execute_reply": "2023-12-03T10:37:50.804888Z",
     "shell.execute_reply.started": "2023-12-03T10:37:50.788581Z"
    },
    "papermill": {
     "duration": null,
     "end_time": null,
     "exception": null,
     "start_time": null,
     "status": "pending"
    },
    "tags": []
   },
   "outputs": [],
   "source": [
    "df.describe().T"
   ]
  },
  {
   "cell_type": "markdown",
   "id": "37df587b",
   "metadata": {
    "papermill": {
     "duration": null,
     "end_time": null,
     "exception": null,
     "start_time": null,
     "status": "pending"
    },
    "tags": []
   },
   "source": [
    "Burdaki 280 yıllara göre ortalama yolcu sayısı. Test hatamızı 48 bulduk. Yani çok iyi değil ama çok kötü de değil. Yani örneğin biz bir yılda 300 yolcu alacakken gerçekte, tahminimiz sonucunda 348 veya 252 diyebiliriz. \n",
    "\n",
    "Yani bu model aracılığıyla bir tahminde bulunduğumuzda elde edecek olduğumuz sonuçlarda 46 birimlik bir sapma ile bu tahminleri gerçekeştirebilriz. \n",
    "\n",
    "Şimdi tahminlerin ve gerçek değerlerin görselleştirilmesi işlemini değerlendirelim. Burda train veri setine ilişkin günlük tahminlerin alınması ve gerçek değerlerle kıytaslanması işlemini gerçekleştiricez. Burada dikkat edilmesi gereken nokta train veri setindeki ilk gözlemin kendinden önceki bir gözleme sahip olmaması. Yani 1949 02 01 tarihinde bu tarihten daha önce bir yoldu yok. Bunu konuşmamızın sebebi lookback yaparak 1 periyot geriye gidiyorduk. Bu 1 periyot geriye gittiğimiz seneryoda  1949 03 01 tarihinin bir öncesi var 1949 04 01'in öncesi var ama 1949 02 01 tarihinin öncesinde bir değer yok."
   ]
  },
  {
   "cell_type": "code",
   "execution_count": null,
   "id": "45a8de6a",
   "metadata": {
    "execution": {
     "iopub.execute_input": "2023-12-03T10:56:34.250527Z",
     "iopub.status.busy": "2023-12-03T10:56:34.249726Z",
     "iopub.status.idle": "2023-12-03T10:56:34.261606Z",
     "shell.execute_reply": "2023-12-03T10:56:34.260590Z",
     "shell.execute_reply.started": "2023-12-03T10:56:34.250493Z"
    },
    "papermill": {
     "duration": null,
     "end_time": null,
     "exception": null,
     "start_time": null,
     "status": "pending"
    },
    "tags": []
   },
   "outputs": [],
   "source": [
    "train_prediction_df = result_df[lookback:position] #result_df--> Veri setimizin ilk hali. Yani burda ilk halinden bir \n",
    "# seçme işlemi yapıyor olucaz. Lookbakc 1 idi. 1 gözlemi pas geçicez çünkü bir öncesi yoktu.\n",
    "\n",
    "train_prediction_df[\"Predicted\"] = train_predict\n",
    "\n",
    "train_prediction_df.head()"
   ]
  },
  {
   "cell_type": "markdown",
   "id": "c4e4b7aa",
   "metadata": {
    "papermill": {
     "duration": null,
     "end_time": null,
     "exception": null,
     "start_time": null,
     "status": "pending"
    },
    "tags": []
   },
   "source": [
    "Burda her bir zaman periyodu için her bir ay için tahminlerde bulunduk. İlk ayda mesela normalde 118 iken biz 133 demişiz.\n",
    "\n",
    "Bu işlemin bir benzerini test seti için de gerçekleştirelim."
   ]
  },
  {
   "cell_type": "code",
   "execution_count": null,
   "id": "53022a40",
   "metadata": {
    "execution": {
     "iopub.execute_input": "2023-12-03T11:00:04.058096Z",
     "iopub.status.busy": "2023-12-03T11:00:04.057723Z",
     "iopub.status.idle": "2023-12-03T11:00:04.069790Z",
     "shell.execute_reply": "2023-12-03T11:00:04.068826Z",
     "shell.execute_reply.started": "2023-12-03T11:00:04.058068Z"
    },
    "papermill": {
     "duration": null,
     "end_time": null,
     "exception": null,
     "start_time": null,
     "status": "pending"
    },
    "tags": []
   },
   "outputs": [],
   "source": [
    "test_prediction_df = result_df[position+lookback:] \n",
    "\n",
    "test_prediction_df[\"Predicted\"] = test_predict\n",
    "\n",
    "test_prediction_df.head()"
   ]
  },
  {
   "cell_type": "markdown",
   "id": "302f9c40",
   "metadata": {
    "papermill": {
     "duration": null,
     "end_time": null,
     "exception": null,
     "start_time": null,
     "status": "pending"
    },
    "tags": []
   },
   "source": [
    "position = 100  # Örnek bir başlangıç pozisyonu\n",
    "\n",
    "lookback = 20   # Başlangıç pozisyonundan itibaren 20 adet veriyi seç\n",
    "\n",
    "test_prediction_df = result_df[position+lookback:]\n",
    "\n",
    "Bu durumda, test_prediction_df, result_df veri çerçevesindeki 120. pozisyondan başlayarak sonraki verileri içerecektir."
   ]
  },
  {
   "cell_type": "markdown",
   "id": "8365f4b1",
   "metadata": {
    "papermill": {
     "duration": null,
     "end_time": null,
     "exception": null,
     "start_time": null,
     "status": "pending"
    },
    "tags": []
   },
   "source": [
    "test_prediction_df = result_df[position+lookback:]: Bu satır, belirli bir position değerinden (position+lookback) başlayarak sonraki tüm verileri içerir. Bu, genellikle test verilerini veya tahminlerini içerir.\n",
    "\n",
    "\n",
    "train_prediction_df = result_df[lookback:position]: Bu satır, belirli bir lookback değerinden başlayarak belirli bir position değerine kadar olan verileri içerir. Bu, genellikle eğitim verilerini içerir."
   ]
  },
  {
   "cell_type": "markdown",
   "id": "10a7c8e0",
   "metadata": {
    "papermill": {
     "duration": null,
     "end_time": null,
     "exception": null,
     "start_time": null,
     "status": "pending"
    },
    "tags": []
   },
   "source": [
    "lookback = 20    # Başlangıç pozisyonundan itibaren 20 adet veriyi seç\n",
    "\n",
    "position = 100   # Belirli bir pozisyona kadar olan verileri seç\n",
    "\n",
    "train_prediction_df = result_df[lookback:position]\n",
    "\n",
    "Bu durumda, train_prediction_df, result_df veri çerçevesindeki 21. pozisyondan başlayarak 100. pozisyona kadar olan verileri içerecektir."
   ]
  },
  {
   "cell_type": "code",
   "execution_count": null,
   "id": "59e78681",
   "metadata": {
    "execution": {
     "iopub.execute_input": "2023-12-03T11:05:20.703393Z",
     "iopub.status.busy": "2023-12-03T11:05:20.702952Z",
     "iopub.status.idle": "2023-12-03T11:05:21.150100Z",
     "shell.execute_reply": "2023-12-03T11:05:21.149215Z",
     "shell.execute_reply.started": "2023-12-03T11:05:20.703360Z"
    },
    "papermill": {
     "duration": null,
     "end_time": null,
     "exception": null,
     "start_time": null,
     "status": "pending"
    },
    "tags": []
   },
   "outputs": [],
   "source": [
    "# Train ve Test Tahminlerini ayrı ayrı görselleştirme işlemi\n",
    "plt.figure(figsize=(14, 5))\n",
    "plt.plot(result_df, label='Real Number of Passengers')\n",
    "plt.plot(train_prediction_df[\"Predicted\"], color='blue', label='Train Predicted Number of Passengers')\n",
    "plt.plot(test_prediction_df[\"Predicted\"], color=\"red\", label='Test Predicted Number of Passengers')\n",
    "plt.title('Number of Passengers Prediction')\n",
    "plt.xlabel('Time')\n",
    "plt.ylabel('Number of Passengers')\n",
    "plt.legend()\n",
    "plt.show()"
   ]
  },
  {
   "cell_type": "markdown",
   "id": "3ca82956",
   "metadata": {
    "papermill": {
     "duration": null,
     "end_time": null,
     "exception": null,
     "start_time": null,
     "status": "pending"
    },
    "tags": []
   },
   "source": [
    "Burda açık maviler gerçek değerler. Koyu maviler train setine ilişkin tahmin ettiğimiz değerler. Kırmızı değerler ise test setine ilişkin tahmin ettiğimiz değerler."
   ]
  },
  {
   "cell_type": "markdown",
   "id": "c46dfd23",
   "metadata": {
    "papermill": {
     "duration": null,
     "end_time": null,
     "exception": null,
     "start_time": null,
     "status": "pending"
    },
    "tags": []
   },
   "source": [
    "### NOTLAR"
   ]
  },
  {
   "cell_type": "markdown",
   "id": "88320fb3",
   "metadata": {
    "papermill": {
     "duration": null,
     "end_time": null,
     "exception": null,
     "start_time": null,
     "status": "pending"
    },
    "tags": []
   },
   "source": [
    "**Data Leakage (Veri Sızıntısı):**\n",
    "\n",
    "Diyelim ki bir modeliniz var ve bu model bir evin fiyatını tahmin etmek için eğitiliyor. Eğitim veri setinizde ev fiyatları ile ilgili bilgiler var: metrekare, oda sayısı, konum gibi özellikler.\n",
    "\n",
    "Eğitim aşamasında, bu veri setini kullanarak modelinizi eğitiyorsunuz. Ancak, bir hata yapıyorsunuz ve tüm veri setini kullanarak ev fiyatlarındaki ortalama değeri ve standart sapmayı hesaplayarak veriyi normalize ediyorsunuz. Normalizasyon, özellik değerlerini belirli bir aralığa veya dağılıma getirme işlemidir.\n",
    "\n",
    "Bu durumda, bu normalizasyon işlemi eğitim verilerini dönüştürmek için kullanıldığından, ev fiyatlarındaki ortalamayı ve standart sapmayı bilmek modelinize gelecekteki ev fiyatlarını tahmin etmede yardımcı olacaktır. Bu durumda, eğitim veri setinin bir kısmı aslında gelecekteki tahmin işlemi için \"sızdırılmış\" bir bilgi içerir.\n",
    "\n",
    "Eğitim veri setini kullanarak elde edilen normalizasyon parametrelerini (ortalama ve standart sapma gibi) doğrudan test veri setine uygularsanız, bu, modelin aslında gelecekteki verileri gördüğü ve bu verileri öğrendiği anlamına gelir. Bu durumda, modelin gerçek dünya performansını değerlendirmek zor olacaktır, çünkü model aslında gelecekteki verileri önceden biliyor gibi davranacaktır.\n",
    "\n",
    "Bu nedenle, normalizasyon parametrelerini hesaplamak için kullanılan istatistikleri eğitim ve test aşamalarında ayrı ayrı hesaplamak önemlidir. Eğitim veri seti üzerinde bu istatistikleri hesaplayıp, bu istatistikleri kullanarak normalize ediyorsanız, test veri setini aynı istatistiklerle normalize etmekten kaçınmalısınız. Aksi halde, veri sızıntısı gerçekleşir."
   ]
  },
  {
   "cell_type": "markdown",
   "id": "7ddb2fe4",
   "metadata": {
    "papermill": {
     "duration": null,
     "end_time": null,
     "exception": null,
     "start_time": null,
     "status": "pending"
    },
    "tags": []
   },
   "source": [
    "**Gradient Descent (Gradyan İniş):** Gradient Descent, bir fonksiyonun minimum veya maksimum noktasını bulmada kullanılan bir optimizasyon algoritmasıdır. Yapay sinir ağlarında, modelin kayıp fonksiyonunu minimize etmek için kullanılır. Ağırlıkları güncellemek için, kayıp fonksiyonunun gradyanını (türevini) kullanarak belirli bir öğrenme oranıyla (learning rate) ağırlıkları günceller.\n",
    "\n",
    "**En Küçük Kareler Yöntemi (Least Squares Method):** En Küçük Kareler Yöntemi, regresyon analizi gibi problemlerde kullanılan bir optimizasyon yöntemidir. Yapay sinir ağları bağlamında, genellikle regresyon problemlerinde kullanılan bir kayıp fonksiyonu ile ilişkilidir.\n",
    "\n",
    "**İleriye Yayılım (Backpropagation):** İleriye Yayılım, yapay sinir ağlarının eğitilmesinde kullanılan bir algoritmadır. Bu algoritma, ağın çıkışındaki tahminlerin gerçek değerlerden ne kadar uzak olduğunu ölçen bir kayıp fonksiyonunu minimize etmeye çalışır. İleri yayılım, Gradient Descent'in bir türüdür ve ağırlıkları güncellemek için zincir kuralını kullanır."
   ]
  },
  {
   "cell_type": "markdown",
   "id": "6f9f0b04",
   "metadata": {
    "papermill": {
     "duration": null,
     "end_time": null,
     "exception": null,
     "start_time": null,
     "status": "pending"
    },
    "tags": []
   },
   "source": [
    "**Öz Yinelemeli Sinir Ağları**\n",
    "\n",
    "Bu tür sinir ağları, zaman serisi veya dizisel verilerle çalışmak üzere tasarlanmıştır. RNN'ler (Recurrent Neural Networks), önceki adımlardan gelen bilgileri içererek giriş verileri üzerinde işlem yapabilir ve bu özellikleri zaman içindeki bağımlılıkları modelleme açısından güçlü kılar. Bu nedenle özellikle sıralı veri türlerinde kullanılırlar."
   ]
  },
  {
   "cell_type": "markdown",
   "id": "482a432d",
   "metadata": {
    "papermill": {
     "duration": null,
     "end_time": null,
     "exception": null,
     "start_time": null,
     "status": "pending"
    },
    "tags": []
   },
   "source": [
    "**reshape(-1,1) Nedir? Örnekle açıklaması.**"
   ]
  },
  {
   "cell_type": "code",
   "execution_count": null,
   "id": "00c7e4fc",
   "metadata": {
    "execution": {
     "iopub.execute_input": "2023-12-03T11:43:49.669969Z",
     "iopub.status.busy": "2023-12-03T11:43:49.669534Z",
     "iopub.status.idle": "2023-12-03T11:43:49.676833Z",
     "shell.execute_reply": "2023-12-03T11:43:49.675792Z",
     "shell.execute_reply.started": "2023-12-03T11:43:49.669941Z"
    },
    "papermill": {
     "duration": null,
     "end_time": null,
     "exception": null,
     "start_time": null,
     "status": "pending"
    },
    "tags": []
   },
   "outputs": [],
   "source": [
    "import numpy as np\n",
    "\n",
    "# Örnek veri oluşturalım\n",
    "data = np.array([1, 2, 3, 4, 5, 6])\n",
    "\n",
    "# Veriyi yeniden şekillendirelim\n",
    "reshaped_data = data.reshape(-1, 1)\n",
    "\n",
    "print(\"Orijinal Veri:\")\n",
    "print(data)\n",
    "print(\"Yeniden Şekillendirilmiş Veri:\")\n",
    "print(reshaped_data)"
   ]
  },
  {
   "cell_type": "markdown",
   "id": "ea06d0f1",
   "metadata": {
    "papermill": {
     "duration": null,
     "end_time": null,
     "exception": null,
     "start_time": null,
     "status": "pending"
    },
    "tags": []
   },
   "source": [
    "Bu kod örneğinde, orijinal veri bir vektördür ve reshape(-1, 1) ifadesi ile bu vektör bir sütun matrisine dönüştürülür. -1 ifadesi, boyutun belirlenmemiş olduğunu ifade eder ve bu boyut, orijinal veri boyutuna göre otomatik olarak hesaplanır. Yani, orijinal verideki eleman sayısı kadar satır, 1 sütunlu bir matris oluşturulur.\n",
    "\n",
    "Bu işlem, özellikle bir makine öğrenimi modeline veri beslerken veya bazı matematiksel işlemler yaparken giriş verilerini belirli bir formata getirmek için kullanılır."
   ]
  }
 ],
 "metadata": {
  "kaggle": {
   "accelerator": "gpu",
   "dataSources": [
    {
     "datasetId": 1392,
     "sourceId": 2506,
     "sourceType": "datasetVersion"
    }
   ],
   "dockerImageVersionId": 30587,
   "isGpuEnabled": true,
   "isInternetEnabled": true,
   "language": "python",
   "sourceType": "notebook"
  },
  "kernelspec": {
   "display_name": "Python 3",
   "language": "python",
   "name": "python3"
  },
  "language_info": {
   "codemirror_mode": {
    "name": "ipython",
    "version": 3
   },
   "file_extension": ".py",
   "mimetype": "text/x-python",
   "name": "python",
   "nbconvert_exporter": "python",
   "pygments_lexer": "ipython3",
   "version": "3.10.12"
  },
  "papermill": {
   "default_parameters": {},
   "duration": 21.577064,
   "end_time": "2023-12-03T14:54:59.576339",
   "environment_variables": {},
   "exception": true,
   "input_path": "__notebook__.ipynb",
   "output_path": "__notebook__.ipynb",
   "parameters": {},
   "start_time": "2023-12-03T14:54:37.999275",
   "version": "2.4.0"
  }
 },
 "nbformat": 4,
 "nbformat_minor": 5
}
